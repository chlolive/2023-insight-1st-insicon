{
 "cells": [
  {
   "cell_type": "markdown",
   "id": "776a0887",
   "metadata": {
    "id": "776a0887"
   },
   "source": [
    "# 라이브러리 호출"
   ]
  },
  {
   "cell_type": "code",
   "execution_count": 1,
   "id": "UVqU1tZDkxe1",
   "metadata": {
    "id": "UVqU1tZDkxe1"
   },
   "outputs": [],
   "source": [
    "## 이거는 코랩하시는 분들만 하시면 돼요\n",
    "\n",
    "#!sudo apt-get install -y fonts-nanum\n",
    "#!sudo fc-cache -fv\n",
    "#!rm ~/.cache/matplotlib -rf"
   ]
  },
  {
   "cell_type": "code",
   "execution_count": 2,
   "id": "550a4da1",
   "metadata": {
    "ExecuteTime": {
     "end_time": "2023-09-28T06:32:23.564418Z",
     "start_time": "2023-09-28T06:32:23.557021Z"
    },
    "id": "550a4da1",
    "tags": []
   },
   "outputs": [],
   "source": [
    "import pandas as pd\n",
    "import numpy as np\n",
    "import seaborn as sns\n",
    "import matplotlib.pyplot as plt\n",
    "import warnings\n",
    "warnings.filterwarnings('ignore')\n",
    "from sklearn.preprocessing import MinMaxScaler\n",
    "from sklearn.preprocessing import StandardScaler\n",
    "from scipy.stats import gaussian_kde\n",
    "\n",
    "import matplotlib\n",
    "matplotlib.rcParams['font.family'] = 'Malgun Gothic'\n",
    "matplotlib.rcParams['font.size'] = 10\n",
    "matplotlib.rcParams['axes.unicode_minus'] = False #마이너스글자가 깨지는 현상을 해결\n",
    "#한글 폰트 설정"
   ]
  },
  {
   "cell_type": "code",
   "execution_count": 3,
   "id": "yu5fLhKdj6fQ",
   "metadata": {
    "colab": {
     "base_uri": "https://localhost:8080/"
    },
    "id": "yu5fLhKdj6fQ",
    "outputId": "24973b37-570d-4e8d-be10-1c779c6d7ccf",
    "tags": []
   },
   "outputs": [
    {
     "ename": "ModuleNotFoundError",
     "evalue": "No module named 'google'",
     "output_type": "error",
     "traceback": [
      "\u001b[1;31m---------------------------------------------------------------------------\u001b[0m",
      "\u001b[1;31mModuleNotFoundError\u001b[0m                       Traceback (most recent call last)",
      "Cell \u001b[1;32mIn[3], line 1\u001b[0m\n\u001b[1;32m----> 1\u001b[0m \u001b[38;5;28;01mfrom\u001b[39;00m \u001b[38;5;21;01mgoogle\u001b[39;00m\u001b[38;5;21;01m.\u001b[39;00m\u001b[38;5;21;01mcolab\u001b[39;00m \u001b[38;5;28;01mimport\u001b[39;00m drive\n\u001b[0;32m      2\u001b[0m drive\u001b[38;5;241m.\u001b[39mmount(\u001b[38;5;124m\"\u001b[39m\u001b[38;5;124m/content/drive\u001b[39m\u001b[38;5;124m\"\u001b[39m)\n",
      "\u001b[1;31mModuleNotFoundError\u001b[0m: No module named 'google'"
     ]
    }
   ],
   "source": [
    "from google.colab import drive\n",
    "drive.mount(\"/content/drive\")"
   ]
  },
  {
   "cell_type": "code",
   "execution_count": null,
   "id": "4d729955",
   "metadata": {
    "ExecuteTime": {
     "end_time": "2023-09-28T06:24:59.290008Z",
     "start_time": "2023-09-28T06:24:59.284055Z"
    },
    "id": "4d729955",
    "tags": []
   },
   "outputs": [],
   "source": [
    "import matplotlib.pyplot as plt\n",
    "\n",
    "plt.rc('font', family='NanumBarunGothic')\n",
    "plt.style.use('seaborn')  # matplotlib style 설정\n",
    "%matplotlib inline"
   ]
  },
  {
   "cell_type": "markdown",
   "id": "c6456d0f",
   "metadata": {
    "id": "c6456d0f"
   },
   "source": [
    "# 데이터 읽기 및 전처리"
   ]
  },
  {
   "cell_type": "markdown",
   "id": "4750d9d6",
   "metadata": {
    "id": "4750d9d6"
   },
   "source": [
    "## Column 설명(0 : 상환 성공, 1 : 상환 실패)\n",
    "- `'LoanID'` : 각 대출에 대한 고유 식별자\n",
    "- `'Age'` : 대출자의 나이\n",
    "- `'Income'`: 대출자의 연봉\n",
    "- `'LoanAmount'` : 빌린 돈의 액수\n",
    "- `'CreditScore'` : 대출자의 신용도를 나타내는 신용 점수\n",
    "- `'MonthsEmployed'` : 대출자가 고용된 달 수\n",
    "- `'NumCreditLines'` : 대출자가 개설한 신용 라인 수\n",
    "- `'InterestRate'` : 대출 이자율\n",
    "- `'LoanTerm'` : 대출 기간(월)\n",
    "- `'DTIRatio'` : 소득대비 부채를 나타내는 총부채상환비율\n",
    "- `'Education'` : 대출자가 달성한 최고 수준의 교육\n",
    "- `'EmploymentType'` : 대출자의 고용형태\n",
    "- `'MaritalStatus'` : 대출자의 혼인상태\n",
    "- `'HasMortgage'` : 대출자가 담보대출을 받았는지 여부 (Y/N)\n",
    "- `'HasDependents'` : 대출자가 부양가족이 있는지 여부 (Y/N)\n",
    "- `'LoanPurpose'` : 대출의 목적\n",
    "- `'HasCoSigner'` : 대출에 공동서명자가 있는지 여부 (Y/N)\n",
    "- `'Default'` : 대출 부도 여부를 나타내는 이진 목표 변수 (0/1)"
   ]
  },
  {
   "cell_type": "code",
   "execution_count": null,
   "id": "ebf70095",
   "metadata": {
    "ExecuteTime": {
     "end_time": "2023-09-28T06:24:59.876302Z",
     "start_time": "2023-09-28T06:24:59.293035Z"
    },
    "colab": {
     "base_uri": "https://localhost:8080/",
     "height": 513
    },
    "id": "ebf70095",
    "outputId": "a386385e-915f-44bd-c1fb-38242b5b90e4",
    "tags": []
   },
   "outputs": [],
   "source": [
    "df = pd.read_csv(\"../Downloads/Loan_default.csv\")\n",
    "df"
   ]
  },
  {
   "cell_type": "code",
   "execution_count": null,
   "id": "41449b57",
   "metadata": {
    "ExecuteTime": {
     "end_time": "2023-09-28T06:25:00.202072Z",
     "start_time": "2023-09-28T06:24:59.878982Z"
    },
    "colab": {
     "base_uri": "https://localhost:8080/"
    },
    "id": "41449b57",
    "outputId": "60504600-54fa-4eaf-81c8-d569f450b2ad",
    "tags": []
   },
   "outputs": [],
   "source": [
    "df.isnull().sum()"
   ]
  },
  {
   "cell_type": "code",
   "execution_count": null,
   "id": "5e5e2ba5",
   "metadata": {
    "ExecuteTime": {
     "end_time": "2023-09-28T06:25:00.630554Z",
     "start_time": "2023-09-28T06:25:00.204538Z"
    },
    "colab": {
     "base_uri": "https://localhost:8080/"
    },
    "id": "5e5e2ba5",
    "outputId": "b764104e-9f3e-41a5-870c-942bf98e71d5",
    "scrolled": true,
    "tags": []
   },
   "outputs": [],
   "source": [
    "df.info()"
   ]
  },
  {
   "cell_type": "code",
   "execution_count": null,
   "id": "cyF9tUbVCSBa",
   "metadata": {
    "colab": {
     "base_uri": "https://localhost:8080/",
     "height": 1000
    },
    "id": "cyF9tUbVCSBa",
    "outputId": "5a27ae8a-fba8-433d-adc5-2f2da694242c",
    "tags": []
   },
   "outputs": [],
   "source": [
    "# Boxplot을 이용한 Outliner 확인\n",
    "\n",
    "for i in df.describe().columns:\n",
    "    df[[i]].boxplot()\n",
    "    plt.show()"
   ]
  },
  {
   "cell_type": "code",
   "execution_count": null,
   "id": "daba2864",
   "metadata": {
    "ExecuteTime": {
     "end_time": "2023-09-28T06:25:00.763237Z",
     "start_time": "2023-09-28T06:25:00.632954Z"
    },
    "colab": {
     "base_uri": "https://localhost:8080/",
     "height": 320
    },
    "id": "daba2864",
    "outputId": "37760baa-440b-4b46-a0e0-736928867212",
    "tags": []
   },
   "outputs": [],
   "source": [
    "df.describe()"
   ]
  },
  {
   "cell_type": "code",
   "execution_count": null,
   "id": "5cf54c64",
   "metadata": {
    "ExecuteTime": {
     "end_time": "2023-09-28T06:25:00.875297Z",
     "start_time": "2023-09-28T06:25:00.765928Z"
    },
    "colab": {
     "base_uri": "https://localhost:8080/",
     "height": 383
    },
    "id": "5cf54c64",
    "outputId": "a3b9a078-0154-4ae4-84ce-71aa5540bf22",
    "scrolled": true,
    "tags": []
   },
   "outputs": [],
   "source": [
    "df.corr()"
   ]
  },
  {
   "cell_type": "code",
   "execution_count": null,
   "id": "CcCDjXJ9C6_a",
   "metadata": {
    "colab": {
     "base_uri": "https://localhost:8080/",
     "height": 516
    },
    "id": "CcCDjXJ9C6_a",
    "outputId": "9e259b5d-5f44-4a20-f7ca-c4fa334616b5",
    "tags": []
   },
   "outputs": [],
   "source": [
    "numeric_data = df.select_dtypes(include=[np.number])  # 숫자형 데이터만 선택\n",
    "correlation_matrix = numeric_data.corr()  # 숫자형 데이터의 상관관계 행렬 계산\n",
    "\n",
    "plt.figure(figsize=(18, 8))\n",
    "sns.heatmap(correlation_matrix, annot=True, cmap='RdYlGn', linewidths=0.2)\n",
    "plt.show()"
   ]
  },
  {
   "cell_type": "markdown",
   "id": "jaPF7DOZC8Ud",
   "metadata": {
    "id": "jaPF7DOZC8Ud"
   },
   "source": [
    "## Column 전처리"
   ]
  },
  {
   "cell_type": "code",
   "execution_count": null,
   "id": "ZkWs12fEClCI",
   "metadata": {
    "id": "ZkWs12fEClCI",
    "tags": []
   },
   "outputs": [],
   "source": [
    "useless_col = ['LoanID']\n",
    "df.drop(useless_col,axis=1,inplace=True)"
   ]
  },
  {
   "cell_type": "code",
   "execution_count": null,
   "id": "ZX0T97ZKChxl",
   "metadata": {
    "id": "ZX0T97ZKChxl",
    "tags": []
   },
   "outputs": [],
   "source": [
    "df['LoanTerm'] = df['LoanTerm']/12\n",
    "df.rename(columns={'LoanTerm': 'LoanTerm(year)'}, inplace=True)"
   ]
  },
  {
   "cell_type": "code",
   "execution_count": null,
   "id": "xNjgQ9K9ICrN",
   "metadata": {
    "id": "xNjgQ9K9ICrN",
    "tags": []
   },
   "outputs": [],
   "source": [
    "df['Age_Range']=pd.cut(df['Age'],bins=[0,29,39,49,59,69],labels=['10-20대','30대','40대','50대','60대'])"
   ]
  },
  {
   "cell_type": "code",
   "execution_count": null,
   "id": "K7Uk_AtUDVPP",
   "metadata": {
    "id": "K7Uk_AtUDVPP",
    "tags": []
   },
   "outputs": [],
   "source": [
    "df[\"Debt\"] = df[\"DTIRatio\"]*df[\"Income\"]"
   ]
  },
  {
   "cell_type": "code",
   "execution_count": null,
   "id": "IyyoyyHuEpTx",
   "metadata": {
    "id": "IyyoyyHuEpTx",
    "tags": []
   },
   "outputs": [],
   "source": [
    "# LoanAmount_Range 칼럼 생성\n",
    "\n",
    "df['LoanAmount_Range']=pd.cut(df['LoanAmount'],bins=[5000,66156,127556,188985,249999],labels=['소액','중소액','중고액','고액'])"
   ]
  },
  {
   "cell_type": "code",
   "execution_count": null,
   "id": "VVcYtXsCExOh",
   "metadata": {
    "id": "VVcYtXsCExOh",
    "tags": []
   },
   "outputs": [],
   "source": [
    "# Income_Ragne 칼럼 생성\n",
    "\n",
    "df['Income_Range']=pd.cut(df['Income'],bins=[0,55572,109520,149999],labels=['저소득층','중소득층','고소득층'])"
   ]
  },
  {
   "cell_type": "code",
   "execution_count": null,
   "id": "A-ZIC-DEDgjq",
   "metadata": {
    "id": "A-ZIC-DEDgjq",
    "tags": []
   },
   "outputs": [],
   "source": [
    "# DTI_Range 설정\n",
    "bins = [0, 0.3, 0.5, 0.7, 0.9]\n",
    "labels = [1,2,3,4]\n",
    "df[\"DTI_Range\"] = pd.cut(df[\"DTIRatio\"],bins=bins, labels=labels)"
   ]
  },
  {
   "cell_type": "code",
   "execution_count": null,
   "id": "hzjlj-usDyrv",
   "metadata": {
    "id": "hzjlj-usDyrv",
    "tags": []
   },
   "outputs": [],
   "source": [
    "# Debt_Range 설정\n",
    "bins = [1500, 17823, 34114, 59301, 135000]\n",
    "labels = [1,2,3,4]\n",
    "df[\"Debt_Range\"] = pd.cut(df[\"Debt\"],bins=bins, labels=labels)"
   ]
  },
  {
   "cell_type": "code",
   "execution_count": null,
   "id": "nS6ZFHAzEanf",
   "metadata": {
    "id": "nS6ZFHAzEanf",
    "tags": []
   },
   "outputs": [],
   "source": [
    "df['Present_Debt'] = (df['Debt']+df['LoanAmount']) # 현재 부채 계산\n",
    "df['DLIratio'] = df['Present_Debt']/df['Income'] # DLIratio"
   ]
  },
  {
   "cell_type": "code",
   "execution_count": null,
   "id": "w7MbfP6lDS_u",
   "metadata": {
    "colab": {
     "base_uri": "https://localhost:8080/",
     "height": 513
    },
    "id": "w7MbfP6lDS_u",
    "outputId": "5583d8f5-e6f1-46bf-f702-a10947e4a5b3",
    "tags": []
   },
   "outputs": [],
   "source": [
    "df['InterestRate_Year'] = (1 + df['InterestRate']/100)**df['LoanTerm(year)'] # 연간 이자율 계산\n",
    "df['Total_LoanAmount'] = df['LoanAmount'] * df['InterestRate_Year'] # 최종 납부 금액 계산\n",
    "df"
   ]
  },
  {
   "cell_type": "markdown",
   "id": "1a0ea201",
   "metadata": {
    "id": "1a0ea201"
   },
   "source": [
    "# EDA"
   ]
  },
  {
   "cell_type": "markdown",
   "id": "htrHEBUrmsF3",
   "metadata": {
    "id": "htrHEBUrmsF3"
   },
   "source": [
    "## 전체 데이터셋에서 대해서 비교"
   ]
  },
  {
   "cell_type": "code",
   "execution_count": null,
   "id": "lyRoiXfJJ02r",
   "metadata": {
    "id": "lyRoiXfJJ02r",
    "tags": []
   },
   "outputs": [],
   "source": [
    "df_fail = df[df['Default']==1]\n",
    "df_success = df[df['Default']==0]"
   ]
  },
  {
   "cell_type": "markdown",
   "id": "JluL7RUXQb9j",
   "metadata": {
    "id": "JluL7RUXQb9j"
   },
   "source": [
    "#### Education\n"
   ]
  },
  {
   "cell_type": "code",
   "execution_count": null,
   "id": "b7afa0cf",
   "metadata": {
    "ExecuteTime": {
     "end_time": "2023-09-28T06:42:13.857373Z",
     "start_time": "2023-09-28T06:42:13.812140Z"
    },
    "colab": {
     "base_uri": "https://localhost:8080/"
    },
    "id": "b7afa0cf",
    "outputId": "4b8f1857-2f53-4466-fb97-c1f56057556b",
    "tags": []
   },
   "outputs": [],
   "source": [
    "df['Education'].value_counts()"
   ]
  },
  {
   "cell_type": "code",
   "execution_count": null,
   "id": "06d1e31f",
   "metadata": {
    "ExecuteTime": {
     "end_time": "2023-09-28T06:41:36.972484Z",
     "start_time": "2023-09-28T06:41:36.924989Z"
    },
    "colab": {
     "base_uri": "https://localhost:8080/",
     "height": 143
    },
    "id": "06d1e31f",
    "outputId": "6da00b02-e8db-4979-f2e2-eeaa7233b7ef",
    "tags": []
   },
   "outputs": [],
   "source": [
    "df.groupby(['Default','Education']).size().unstack()"
   ]
  },
  {
   "cell_type": "code",
   "execution_count": null,
   "id": "aQX1WWwMJU_3",
   "metadata": {
    "colab": {
     "base_uri": "https://localhost:8080/",
     "height": 516
    },
    "id": "aQX1WWwMJU_3",
    "outputId": "a3c117f1-fc44-436a-a3e5-20c9f74b6096",
    "tags": []
   },
   "outputs": [],
   "source": [
    "f, ax = plt.subplots(1, 2, figsize=(18, 8))\n",
    "\n",
    "# 파이차트\n",
    "df_fail['Education'].value_counts().plot.pie(\n",
    "                                         autopct='%1.1f%%', ## 백분율을 소수점 앞 한자리 소수점 아래 한자리까지 %로 표시\n",
    "                                         ax=ax[0], ## 0번째 위치\n",
    "                                         shadow=True, ## 그림자 표시\n",
    "                                         fontsize=20)\n",
    "ax[0].set_title('Each percentage of education of bankrupt')\n",
    "ax[0].set_ylabel('')\n",
    "\n",
    "# 카운트 플랏\n",
    "sns.countplot(x='Education', hue='Default', data=df_fail, ax=ax[1])\n",
    "ax[1].set_title('Education: bankruptcy or not')\n",
    "\n",
    "plt.show()"
   ]
  },
  {
   "cell_type": "markdown",
   "id": "eRd7WdPAKSuz",
   "metadata": {
    "id": "eRd7WdPAKSuz"
   },
   "source": [
    "카운트 플롯: 각 학력 별로 전체 대비 파산한 사람의 비율을 보면, 명확하게 차이가 나는 것은 아니지만 High school(12.8%)이 가장 높고 그 다음으로는 Bachelor(12.1%), Master's(10.8%), PhD(10.5%) 였다.  \n",
    "파이 차트: 파산한 사람들 중 각 학력이 차지하는 비중은 내림차순으로 High school, Bachelor, Master's, PhD 였다."
   ]
  },
  {
   "cell_type": "markdown",
   "id": "gX49obx2IW3z",
   "metadata": {
    "id": "gX49obx2IW3z"
   },
   "source": [
    "#### Employment"
   ]
  },
  {
   "cell_type": "markdown",
   "id": "_LCvmP4cIiVb",
   "metadata": {
    "id": "_LCvmP4cIiVb"
   },
   "source": []
  },
  {
   "cell_type": "code",
   "execution_count": null,
   "id": "oJYeLollIYtr",
   "metadata": {
    "colab": {
     "base_uri": "https://localhost:8080/"
    },
    "id": "oJYeLollIYtr",
    "outputId": "226b24ec-208f-41df-9ca6-a3870ea3ba67",
    "tags": []
   },
   "outputs": [],
   "source": [
    "df['EmploymentType'].value_counts()"
   ]
  },
  {
   "cell_type": "code",
   "execution_count": null,
   "id": "gA4IoyVdIYqv",
   "metadata": {
    "colab": {
     "base_uri": "https://localhost:8080/",
     "height": 143
    },
    "id": "gA4IoyVdIYqv",
    "outputId": "7878d501-a1b5-4d25-cb23-a6b11cd8d0b7",
    "tags": []
   },
   "outputs": [],
   "source": [
    "df.groupby(['Default','EmploymentType']).size().unstack()"
   ]
  },
  {
   "cell_type": "code",
   "execution_count": null,
   "id": "5Scfo7GPIa16",
   "metadata": {
    "colab": {
     "base_uri": "https://localhost:8080/",
     "height": 288
    },
    "id": "5Scfo7GPIa16",
    "outputId": "28dd024e-274f-4578-b0bf-6d2440c22587",
    "tags": []
   },
   "outputs": [],
   "source": [
    "EmploymentType_0 = df.groupby(['Default','EmploymentType']).size().unstack().iloc[0]\n",
    "EmploymentType_1 = df.groupby(['Default','EmploymentType']).size().unstack().iloc[1]\n",
    "\n",
    "f,ax=plt.subplots(1,2,figsize=(9,3))\n",
    "\n",
    "ax[0].pie(EmploymentType_0,labels=EmploymentType_0.index,autopct='%1.1f%%')\n",
    "ax[0].set_title('Default=0')\n",
    "ax[1].pie(EmploymentType_1,labels=EmploymentType_1.index,autopct='%1.1f%%')\n",
    "ax[1].set_title('Default=1')\n",
    "\n",
    "plt.show()"
   ]
  },
  {
   "cell_type": "markdown",
   "id": "GCCL-p_fKJqS",
   "metadata": {
    "id": "GCCL-p_fKJqS"
   },
   "source": [
    "왼쪽의 파이 차트에서도 확인할 수 있듯이, 대출자에서 고용형태는 4가지 항목이 각각 약 25%로 공평하게 대출이 되었음을 확인할 수 있다.  \n",
    "하지만 파산한 사람만 골라내어 다시 만든 오른쪽 파이차트에서는 실업자(Unemployed)가 29.2%라는 다소 높은 비율을 차지하고 있음이 확인되었다.  \n",
    "실업자, 파트 타임, 자영업, 풀타임 근무자 순으로 파산자에서 차지하는 비중이 높다."
   ]
  },
  {
   "cell_type": "markdown",
   "id": "qNp1CvWFKZ8i",
   "metadata": {
    "id": "qNp1CvWFKZ8i"
   },
   "source": [
    "#### Marital Status"
   ]
  },
  {
   "cell_type": "code",
   "execution_count": null,
   "id": "TcBC-4Q1Kco7",
   "metadata": {
    "colab": {
     "base_uri": "https://localhost:8080/",
     "height": 498
    },
    "id": "TcBC-4Q1Kco7",
    "outputId": "3810be7c-62b5-415c-cde8-5838d6b41742",
    "tags": []
   },
   "outputs": [],
   "source": [
    "f, ax = plt.subplots(1, 2, figsize=(18, 8))\n",
    "\n",
    "# 파이차트1\n",
    "df['MaritalStatus'].value_counts().plot.pie(\n",
    "                                         autopct='%1.1f%%', ## 백분율을 소수점 앞 한자리 소수점 아래 한자리까지 %로 표시\n",
    "                                         ax=ax[0],\n",
    "                                         shadow=True, ## 그림자 표시\n",
    "                                         fontsize=20)\n",
    "ax[0].set_title('Overall Marital Status')\n",
    "ax[0].set_ylabel('')\n",
    "\n",
    "# 파이차트2\n",
    "df_fail['MaritalStatus'].value_counts().plot.pie(\n",
    "                                         autopct='%1.1f%%', ## 백분율을 소수점 앞 한자리 소수점 아래 한자리까지 %로 표시\n",
    "                                         ax=ax[1],\n",
    "                                         shadow=True, ## 그림자 표시\n",
    "                                         fontsize=20)\n",
    "ax[1].set_title('Marital Status of bankrupt')\n",
    "ax[1].set_ylabel('')"
   ]
  },
  {
   "cell_type": "code",
   "execution_count": null,
   "id": "KvYKz9DRKcja",
   "metadata": {
    "colab": {
     "base_uri": "https://localhost:8080/",
     "height": 485
    },
    "id": "KvYKz9DRKcja",
    "outputId": "e16bacbb-dfee-43d6-d711-b3426437a06f",
    "tags": []
   },
   "outputs": [],
   "source": [
    "f, ax = plt.subplots(1, 1, figsize=(5, 5))\n",
    "\n",
    "# 카운트 플랏\n",
    "sns.countplot(x='MaritalStatus', hue='Default', data=df)\n",
    "ax.set_title('Marital Status: bankruptcy or not')\n",
    "plt.show()"
   ]
  },
  {
   "cell_type": "code",
   "execution_count": null,
   "id": "1Bi6eJZdKobX",
   "metadata": {
    "colab": {
     "base_uri": "https://localhost:8080/",
     "height": 175
    },
    "id": "1Bi6eJZdKobX",
    "outputId": "c05c0d37-e855-412e-f180-c2ceabc7d50e",
    "tags": []
   },
   "outputs": [],
   "source": [
    "pd.crosstab(df.Default,\n",
    "            df.MaritalStatus, margins=True) ## margins=True => 각 행과 열의 총합을 나타내는 \"All\" 열과 행이 추가"
   ]
  },
  {
   "cell_type": "markdown",
   "id": "59XxxSnMKvqF",
   "metadata": {
    "id": "59XxxSnMKvqF"
   },
   "source": [
    "위의 카운트플랏과 크로스대블릿으로 확인한 결과, 각 항목 별로 파산한 비율은 Divorced(12.5%), Married(10.4%), Single(11.9%)순이었다.  \n",
    "파산한 사람들 중 Divorced가 가장 비중을 많이 차지했고, Divorced 내에서도 파산한 사람의 비율은 12.5%로 가장 높았다.  \n",
    "하지만 이는 단순히 혼인여부만 따져서는 유의미한 결과를 도출하기 어렵다고 판단하였고, 이에 혼인 여부와 관련된 다른 항목 '부양가족 여부(HasDependents)'와 같이 고려해보기로 하였다."
   ]
  },
  {
   "cell_type": "markdown",
   "id": "P_HwYG1uoCMh",
   "metadata": {
    "id": "P_HwYG1uoCMh"
   },
   "source": [
    "#### Age"
   ]
  },
  {
   "cell_type": "code",
   "execution_count": null,
   "id": "vhSn26nGlhnG",
   "metadata": {
    "colab": {
     "base_uri": "https://localhost:8080/",
     "height": 524
    },
    "id": "vhSn26nGlhnG",
    "outputId": "278fe113-094a-4930-ad8a-7891e1d8168c",
    "tags": []
   },
   "outputs": [],
   "source": [
    "# Age_Range에 따른 분포\n",
    "sns.countplot(x='Age_Range', hue='Default', data=df)\n",
    "plt.title('Age_Range: 성공 vs 실패')\n",
    "plt.show()"
   ]
  },
  {
   "cell_type": "code",
   "execution_count": null,
   "id": "8R1lwnUjlhkw",
   "metadata": {
    "colab": {
     "base_uri": "https://localhost:8080/",
     "height": 587
    },
    "id": "8R1lwnUjlhkw",
    "outputId": "17d52784-7dbf-4f73-b3ec-8e46094c80f5",
    "tags": []
   },
   "outputs": [],
   "source": [
    "# 연령대 vs 평균 대출 금액\n",
    "plt.figure(figsize=(10, 6))\n",
    "sns.barplot(data=df, x='Age_Range', y='LoanAmount', hue='Default', ci=None)\n",
    "\n",
    "plt.xlabel('연령대')\n",
    "plt.ylabel('평균 대출 금액')\n",
    "plt.title('연령대별 평균 대출 금액')\n",
    "plt.xticks(rotation=45)\n",
    "plt.legend(title='Default', loc='upper right')\n",
    "plt.show()"
   ]
  },
  {
   "cell_type": "code",
   "execution_count": null,
   "id": "cRw9ej44oKee",
   "metadata": {
    "colab": {
     "base_uri": "https://localhost:8080/",
     "height": 587
    },
    "id": "cRw9ej44oKee",
    "outputId": "b34ce25c-2464-436d-a747-e1e2962ded68",
    "tags": []
   },
   "outputs": [],
   "source": [
    "# 연령대 vs 수입\n",
    "plt.figure(figsize=(10, 6))\n",
    "sns.barplot(data=df, x='Age_Range', y='Income', hue='Default', ci=None)\n",
    "\n",
    "plt.xlabel('연령대')\n",
    "plt.ylabel('수입')\n",
    "plt.title('연령대별 수입')\n",
    "plt.xticks(rotation=45)\n",
    "plt.legend(title='Default', loc='upper right')\n",
    "plt.show()"
   ]
  },
  {
   "cell_type": "code",
   "execution_count": null,
   "id": "74PmUC2WNsm_",
   "metadata": {
    "colab": {
     "base_uri": "https://localhost:8080/"
    },
    "id": "74PmUC2WNsm_",
    "outputId": "f0fa8c82-6f67-4de8-9aab-78432f3dd7c1",
    "tags": []
   },
   "outputs": [],
   "source": [
    "df_fail.columns"
   ]
  },
  {
   "cell_type": "code",
   "execution_count": null,
   "id": "0n6Sn3gnNRCY",
   "metadata": {
    "colab": {
     "base_uri": "https://localhost:8080/",
     "height": 475
    },
    "id": "0n6Sn3gnNRCY",
    "outputId": "250570f3-0130-4be6-f0fa-c0bb620cbc66",
    "tags": []
   },
   "outputs": [],
   "source": [
    "# 'Age_Range'와 'Default' 열을 그룹화하여 대출 부도 건수 계산\n",
    "age_range_default_count = df_fail.groupby(['Age_Range'])['Default'].count().reset_index()\n",
    "\n",
    "# 대출 부도 건수를 비율로 변환하여 'Default_Ratio' 열에 저장\n",
    "total_counts = age_range_default_count['Default'].sum()\n",
    "age_range_default_count['Default_Ratio'] = age_range_default_count['Default'] / total_counts\n",
    "\n",
    "# 결과 출력\n",
    "print(age_range_default_count)\n",
    "\n",
    "\n",
    "age_range = ['10', '20', '30', '40', '50', '60']\n",
    "default_ratios = [0.073517, 0.316191, 0.236941, 0.167403, 0.121269, 0.084679]\n",
    "# 파이 차트 생성\n",
    "plt.figure(figsize=(4, 4))\n",
    "plt.pie(default_ratios, labels=age_range, autopct='%1.1f%%', startangle=140)\n",
    "\n",
    "# 차트 제목 설정\n",
    "plt.title('Loan default rate by age Range')\n",
    "\n",
    "# 파이 차트를 원 형태로 유지\n",
    "plt.axis('equal')\n",
    "\n",
    "# 차트 표시\n",
    "plt.show()\n"
   ]
  },
  {
   "cell_type": "markdown",
   "id": "qWsFTvdoN1-x",
   "metadata": {
    "id": "qWsFTvdoN1-x"
   },
   "source": [
    "- 상환에 실패한 사람들 중 30%이상이 20대에 해당하며, 나이가 많아질수록 부도난 사람이 줄어듦                                                 \n",
    "- 2030세대가 전체 상환 실패한 사람들 중 55.3%를 차지함"
   ]
  },
  {
   "cell_type": "markdown",
   "id": "CSw6XURaQpzx",
   "metadata": {
    "id": "CSw6XURaQpzx"
   },
   "source": [
    "#### Income"
   ]
  },
  {
   "cell_type": "code",
   "execution_count": null,
   "id": "KlOjWVjfS5G7",
   "metadata": {
    "colab": {
     "base_uri": "https://localhost:8080/",
     "height": 320
    },
    "id": "KlOjWVjfS5G7",
    "outputId": "79b3f966-f579-48c7-d34c-e32054410e3f",
    "tags": []
   },
   "outputs": [],
   "source": [
    "df.describe()"
   ]
  },
  {
   "cell_type": "code",
   "execution_count": null,
   "id": "r6p3K2HJLCLV",
   "metadata": {
    "colab": {
     "base_uri": "https://localhost:8080/",
     "height": 545
    },
    "id": "r6p3K2HJLCLV",
    "outputId": "7dbb0f39-6d02-4815-bcf4-991bfb1a1bf3",
    "tags": []
   },
   "outputs": [],
   "source": [
    "# Figure 객체와 서브플롯 생성\n",
    "f, ax = plt.subplots(1, 2, figsize=(20, 10))\n",
    "\n",
    "# 첫 번째 그래프: 파산한 경우의 수입 분포 히스토그램\n",
    "df[df['Default'] == 0].Income.plot.hist(ax=ax[0],\n",
    "                                          bins=20,\n",
    "                                          edgecolor='black',\n",
    "                                          color='blue')\n",
    "ax[0].set_title('Default= 0')  # 제목 설정\n",
    "x1 = list(range(0,150000, 10000))\n",
    "ax[0].set_xticks(x1)  # x축 눈금 설정\n",
    "\n",
    "# 두 번째 그래프: 파산한 경우의 수입 분포 히스토그램\n",
    "df[df['Default'] == 1].Income.plot.hist(ax=ax[1],\n",
    "                                          bins=20,\n",
    "                                          edgecolor='black',\n",
    "                                          color='blue')\n",
    "ax[1].set_title('Default= 1')  # 제목 설정\n",
    "x2 = list(range(0, 150000, 10000))\n",
    "ax[1].set_xticks(x2)  # x축 눈금 설정\n",
    "plt.show()"
   ]
  },
  {
   "cell_type": "code",
   "execution_count": null,
   "id": "gjl7oqd5LLGJ",
   "metadata": {
    "colab": {
     "base_uri": "https://localhost:8080/",
     "height": 779
    },
    "id": "gjl7oqd5LLGJ",
    "outputId": "4db17f01-9092-42e6-a7b4-59a494a9e8c3",
    "tags": []
   },
   "outputs": [],
   "source": [
    "f, ax = plt.subplots(1, 1, figsize=(18, 8))\n",
    "\n",
    "# 첫 번째 바이올린 플랏\n",
    "sns.violinplot(x='EmploymentType', y='Income', hue='Default', data=df, split=True)\n",
    "ax.set_title('Income and EmploymentType vs Default')\n",
    "ax.set_yticks(range(0, 150000, 10000))"
   ]
  },
  {
   "cell_type": "code",
   "execution_count": null,
   "id": "wdCT91mjQ9N6",
   "metadata": {
    "colab": {
     "base_uri": "https://localhost:8080/",
     "height": 562
    },
    "id": "wdCT91mjQ9N6",
    "outputId": "c54a85c7-bf4f-4fc1-a5b8-08577818359a",
    "tags": []
   },
   "outputs": [],
   "source": [
    "# Income Histogram\n",
    "plt.figure(figsize=(10, 6))\n",
    "sns.histplot(data=df, x='Income_Range', bins=20, hue='Default', palette='pastel')\n",
    "plt.xlabel('Income')\n",
    "plt.ylabel('Frequency')\n",
    "plt.title('Income Distribution by Default Status')\n",
    "plt.show()"
   ]
  },
  {
   "cell_type": "code",
   "execution_count": null,
   "id": "C9hmDrLgQ9Id",
   "metadata": {
    "colab": {
     "base_uri": "https://localhost:8080/",
     "height": 573
    },
    "id": "C9hmDrLgQ9Id",
    "outputId": "5f8ff6d2-85dd-4191-d5cd-bdd71ec8aa38",
    "tags": []
   },
   "outputs": [],
   "source": [
    "# 연령대 vs 수입\n",
    "plt.figure(figsize=(10, 6))\n",
    "sns.barplot(data=df, x='Income_Range', y='MonthsEmployed', hue='Default', ci=None)\n",
    "\n",
    "plt.xlabel('수입대')\n",
    "plt.ylabel('근무개월')\n",
    "plt.title('수입 vs 근무개월')\n",
    "plt.xticks(rotation=45)\n",
    "plt.legend(title='Default', loc='upper right')\n",
    "plt.show()"
   ]
  },
  {
   "cell_type": "code",
   "execution_count": null,
   "id": "VHkyX0DwQ9GG",
   "metadata": {
    "colab": {
     "base_uri": "https://localhost:8080/",
     "height": 475
    },
    "id": "VHkyX0DwQ9GG",
    "outputId": "09ba65c8-d478-423b-9a0f-acee6d8fc70c",
    "tags": []
   },
   "outputs": [],
   "source": [
    "df_low_income = df[df['Income_Range']=='저소득층']\n",
    "df_mid_income = df[df['Income_Range']=='중소득층']\n",
    "df_high_income = df[df['Income_Range']=='고소득층']\n",
    "\n",
    "# 서브플롯 생성\n",
    "fig, ax = plt.subplots(1, 3, figsize=(18, 8))\n",
    "\n",
    "# 각 서브플롯에 히스토그램 그리기\n",
    "sns.histplot(data=df_low_income, x='DTIRatio', bins=20, palette='pastel', ax=ax[0])\n",
    "ax[0].set_title('DTIRatio - Low Income')\n",
    "\n",
    "sns.histplot(data=df_mid_income, x='DTIRatio', bins=20, palette='pastel', ax=ax[1])\n",
    "ax[1].set_title('DTIRatio - Mid-Income')\n",
    "\n",
    "sns.histplot(data=df_high_income, x='DTIRatio', bins=20, palette='pastel', ax=ax[2])\n",
    "ax[2].set_title('DTIRatio - High Income')\n",
    "\n",
    "# 그래프 출력\n",
    "plt.tight_layout()\n",
    "plt.show()"
   ]
  },
  {
   "cell_type": "markdown",
   "id": "dMPx0HlTL9pR",
   "metadata": {
    "id": "dMPx0HlTL9pR"
   },
   "source": [
    "#### Loan_Amount"
   ]
  },
  {
   "cell_type": "code",
   "execution_count": null,
   "id": "r5_5kVtsL_Zp",
   "metadata": {
    "colab": {
     "base_uri": "https://localhost:8080/",
     "height": 545
    },
    "id": "r5_5kVtsL_Zp",
    "outputId": "b76d4cc6-a92c-44a4-e4d6-630fcdfc7274",
    "tags": []
   },
   "outputs": [],
   "source": [
    "# Figure 객체와 서브플롯 생성\n",
    "f, ax = plt.subplots(1, 2, figsize=(20, 10))\n",
    "\n",
    "# 첫 번째 그래프: 파산한 경우의 수입 분포 히스토그램\n",
    "df[df['Default'] == 0].LoanAmount.plot.hist(ax=ax[0],\n",
    "                                          bins=20,\n",
    "                                          edgecolor='black',\n",
    "                                          color='blue')\n",
    "ax[0].set_title('Default= 0')  # 제목 설정\n",
    "x1 = list(range(0,250000, 10000))\n",
    "ax[0].set_xticks(x1)  # x축 눈금 설정\n",
    "\n",
    "# 두 번째 그래프: 파산한 경우의 수입 분포 히스토그램\n",
    "df[df['Default'] == 1].LoanAmount.plot.hist(ax=ax[1],\n",
    "                                          bins=20,\n",
    "                                          edgecolor='black',\n",
    "                                          color='blue')\n",
    "ax[1].set_title('Default= 1')  # 제목 설정\n",
    "x2 = list(range(0, 250000, 10000))\n",
    "ax[1].set_xticks(x2)  # x축 눈금 설정\n",
    "plt.show()"
   ]
  },
  {
   "cell_type": "code",
   "execution_count": null,
   "id": "hPDZWpM7L_X1",
   "metadata": {
    "colab": {
     "base_uri": "https://localhost:8080/",
     "height": 962
    },
    "id": "hPDZWpM7L_X1",
    "outputId": "80de94f2-320d-4568-8d5d-b8b058b281ab",
    "tags": []
   },
   "outputs": [],
   "source": [
    "f, ax = plt.subplots(1, 1, figsize=(18, 8))\n",
    "\n",
    "# 첫 번째 바이올린 플랏\n",
    "sns.violinplot(x='EmploymentType', y='LoanAmount', hue='Default', data=df, split=True)\n",
    "ax.set_title('EmploymentType and LoanAMount vs Default')\n",
    "ax.set_yticks(range(0, 250000, 10000))"
   ]
  },
  {
   "cell_type": "code",
   "execution_count": null,
   "id": "Jw5RUTt1L_Vs",
   "metadata": {
    "colab": {
     "base_uri": "https://localhost:8080/",
     "height": 490
    },
    "id": "Jw5RUTt1L_Vs",
    "outputId": "9f8544f3-e9da-442e-ab52-aac3e80f7c14",
    "tags": []
   },
   "outputs": [],
   "source": [
    "# Figure 객체와 서브플롯 생성\n",
    "f, ax = plt.subplots(1, 2, figsize=(18, 8))\n",
    "\n",
    "sns.boxplot(x=df['Default'], y=df['LoanAmount'],ax=ax[0])\n",
    "sns.boxplot(x=df['Default'], y=df['Income'],ax=ax[1])\n",
    "plt.show()"
   ]
  },
  {
   "cell_type": "markdown",
   "id": "fI4qXmVsM_b8",
   "metadata": {
    "id": "fI4qXmVsM_b8"
   },
   "source": [
    "#### InterestRate"
   ]
  },
  {
   "cell_type": "code",
   "execution_count": null,
   "id": "j8xtb1qwNB0U",
   "metadata": {
    "colab": {
     "base_uri": "https://localhost:8080/",
     "height": 524
    },
    "id": "j8xtb1qwNB0U",
    "outputId": "48737a33-e403-4f2b-8c6d-2f1553218af8",
    "tags": []
   },
   "outputs": [],
   "source": [
    "sns.countplot(x='InterestRate', data=df_fail)\n",
    "plt.title('InterestRate: 실패')\n",
    "plt.show()"
   ]
  },
  {
   "cell_type": "code",
   "execution_count": null,
   "id": "LRRkdMX4NBx7",
   "metadata": {
    "colab": {
     "base_uri": "https://localhost:8080/",
     "height": 175
    },
    "id": "LRRkdMX4NBx7",
    "outputId": "247fd8e7-bb20-401e-eaa6-afbc000d39d3",
    "tags": []
   },
   "outputs": [],
   "source": [
    "df.groupby('Income_Range')['InterestRate'].mean().to_frame()"
   ]
  },
  {
   "cell_type": "code",
   "execution_count": null,
   "id": "bS6vef-gNBsK",
   "metadata": {
    "colab": {
     "base_uri": "https://localhost:8080/",
     "height": 545
    },
    "id": "bS6vef-gNBsK",
    "outputId": "4a87ffe5-4dad-4d83-ba39-092a701026fb",
    "tags": []
   },
   "outputs": [],
   "source": [
    "# Figure 객체와 서브플롯 생성\n",
    "f, ax = plt.subplots(1, 2, figsize=(20, 10))\n",
    "\n",
    "# 첫 번째 그래프: 파산 안한 경우의 이자율 분포 히스토그램\n",
    "df[df['Default'] == 0].InterestRate.plot.hist(ax=ax[0],\n",
    "                                          bins=20,\n",
    "                                          edgecolor='black',\n",
    "                                          color='blue')\n",
    "ax[0].set_title('Default= 0')  # 제목 설정\n",
    "x1 = list(range(0,25, 5))\n",
    "ax[0].set_xticks(x1)  # x축 눈금 설정\n",
    "\n",
    "# 두 번째 그래프: 파산한 경우의 수입 분포 히스토그램\n",
    "df[df['Default'] == 1].InterestRate.plot.hist(ax=ax[1],\n",
    "                                          bins=20,\n",
    "                                          edgecolor='black',\n",
    "                                          color='blue')\n",
    "ax[1].set_title('Default= 1')  # 제목 설정\n",
    "x2 = list(range(0, 25, 5))\n",
    "ax[1].set_xticks(x2)  # x축 눈금 설정\n",
    "plt.show()"
   ]
  },
  {
   "cell_type": "markdown",
   "id": "foYaCUOqYZsl",
   "metadata": {
    "id": "foYaCUOqYZsl"
   },
   "source": [
    "#### 신용도"
   ]
  },
  {
   "cell_type": "code",
   "execution_count": null,
   "id": "o_n0wzLhYeOp",
   "metadata": {
    "colab": {
     "base_uri": "https://localhost:8080/",
     "height": 504
    },
    "id": "o_n0wzLhYeOp",
    "outputId": "b0d60dac-0add-4113-bcce-bddffc24dd10",
    "tags": []
   },
   "outputs": [],
   "source": [
    "plt.hist(x=df.CreditScore, bins=20)\n",
    "plt.title(\"CreditScore histogram\")\n",
    "plt.show()"
   ]
  },
  {
   "cell_type": "code",
   "execution_count": null,
   "id": "JWYQP2dOeer1",
   "metadata": {
    "colab": {
     "base_uri": "https://localhost:8080/",
     "height": 524
    },
    "id": "JWYQP2dOeer1",
    "outputId": "9026420c-9404-485a-c041-03b99b02dbaf",
    "tags": []
   },
   "outputs": [],
   "source": [
    "sns.countplot(x='CreditScore', hue='Default', data=df)\n",
    "plt.title('신용도 점수: 성공 vs 실패')\n",
    "plt.show()"
   ]
  },
  {
   "cell_type": "code",
   "execution_count": null,
   "id": "MDSZ2EjsYeMp",
   "metadata": {
    "colab": {
     "base_uri": "https://localhost:8080/",
     "height": 575
    },
    "id": "MDSZ2EjsYeMp",
    "outputId": "6d749bae-f5fc-4f9d-a7c3-61efd88cdb6d",
    "tags": []
   },
   "outputs": [],
   "source": [
    "# 신용도 vs 평균 대출 금액\n",
    "plt.figure(figsize=(10, 6))\n",
    "sns.barplot(data=df, x='CreditScore', y='LoanAmount', ci=None)\n",
    "\n",
    "plt.xlabel('신용도')\n",
    "plt.ylabel('대출 금액')\n",
    "plt.title('신용도별 평균 대출 금액')\n",
    "plt.xticks(rotation=45)\n",
    "plt.show()"
   ]
  },
  {
   "cell_type": "code",
   "execution_count": null,
   "id": "YN0kCfFJaaHw",
   "metadata": {
    "colab": {
     "base_uri": "https://localhost:8080/",
     "height": 573
    },
    "id": "YN0kCfFJaaHw",
    "outputId": "9cd11efc-e273-47cc-f2c3-4ddd4f19c536",
    "tags": []
   },
   "outputs": [],
   "source": [
    "# Income vs 신용도 점수\n",
    "plt.figure(figsize=(10, 6))\n",
    "sns.barplot(data=df, x='Income_Range', y='CreditScore', hue='Default', ci=None)\n",
    "\n",
    "plt.xlabel('수입')\n",
    "plt.ylabel('신용도 점수')\n",
    "plt.title('수입대별신용도 점수')\n",
    "plt.xticks(rotation=45)\n",
    "plt.legend(title='Default', loc='upper right')\n",
    "plt.show()"
   ]
  },
  {
   "cell_type": "code",
   "execution_count": null,
   "id": "XXtUOPxjiJ78",
   "metadata": {
    "colab": {
     "base_uri": "https://localhost:8080/",
     "height": 572
    },
    "id": "XXtUOPxjiJ78",
    "outputId": "1478c3ad-c8a3-4dc0-852e-88ec8399b4d6",
    "tags": []
   },
   "outputs": [],
   "source": [
    "# Income vs 신용도 점수\n",
    "plt.figure(figsize=(10, 6))\n",
    "sns.barplot(data=df, x='LoanTerm(year)', y='CreditScore', hue='Default', ci=None)\n",
    "\n",
    "plt.xlabel('대출기간')\n",
    "plt.ylabel('신용도 점수')\n",
    "plt.title('대출기간에 따른 신용도 점수')\n",
    "plt.xticks(rotation=45)\n",
    "plt.legend(title='Default', loc='upper right')\n",
    "plt.show()"
   ]
  },
  {
   "cell_type": "code",
   "execution_count": null,
   "id": "uHyB_TZPYeKV",
   "metadata": {
    "colab": {
     "base_uri": "https://localhost:8080/",
     "height": 587
    },
    "id": "uHyB_TZPYeKV",
    "outputId": "719046d4-ad88-4a05-b775-537f22a0dea5",
    "tags": []
   },
   "outputs": [],
   "source": [
    "# 연령대 vs 신용도 점수\n",
    "plt.figure(figsize=(10, 6))\n",
    "sns.barplot(data=df, x='Age_Range', y='CreditScore', hue='Default', ci=None)\n",
    "\n",
    "plt.xlabel('연령대')\n",
    "plt.ylabel('신용도 점수')\n",
    "plt.title('연령대별 신용도 점수')\n",
    "plt.xticks(rotation=45)\n",
    "plt.legend(title='Default', loc='upper right')\n",
    "plt.show()"
   ]
  },
  {
   "cell_type": "markdown",
   "id": "Oa4B7ZwhYevx",
   "metadata": {
    "id": "Oa4B7ZwhYevx"
   },
   "source": [
    "#### 대출 목적(business)"
   ]
  },
  {
   "cell_type": "code",
   "execution_count": null,
   "id": "nJwrtmzqYnfW",
   "metadata": {
    "colab": {
     "base_uri": "https://localhost:8080/"
    },
    "id": "nJwrtmzqYnfW",
    "outputId": "ad5d9b42-b49e-4867-fb69-c32d542536de",
    "tags": []
   },
   "outputs": [],
   "source": [
    "df.LoanPurpose.value_counts()"
   ]
  },
  {
   "cell_type": "code",
   "execution_count": null,
   "id": "CycGmaEsYndh",
   "metadata": {
    "colab": {
     "base_uri": "https://localhost:8080/",
     "height": 602
    },
    "id": "CycGmaEsYndh",
    "outputId": "83b8f6d0-87f4-48bc-ced6-60a67516b038",
    "tags": []
   },
   "outputs": [],
   "source": [
    "# 연령대 vs 수입\n",
    "plt.figure(figsize=(10, 6))\n",
    "sns.barplot(data=df, x='LoanPurpose', y='LoanAmount', hue='Default', ci=None)\n",
    "\n",
    "plt.xlabel('대출 목적')\n",
    "plt.ylabel('대출 금액')\n",
    "plt.title('대출 목적에 따른 대출 금액')\n",
    "plt.xticks(rotation=45)\n",
    "plt.legend(title='Default', loc='upper right')\n",
    "plt.show()"
   ]
  },
  {
   "cell_type": "code",
   "execution_count": null,
   "id": "oQs4LDgeOuit",
   "metadata": {
    "colab": {
     "base_uri": "https://localhost:8080/",
     "height": 503
    },
    "id": "oQs4LDgeOuit",
    "outputId": "15d7b9b5-4bc3-41c3-8178-03611aae781c",
    "tags": []
   },
   "outputs": [],
   "source": [
    "f, ax = plt.subplots(1, 2, figsize=(18, 8))\n",
    "\n",
    "# 파이차트\n",
    "df_fail['LoanPurpose'].value_counts().plot.pie(\n",
    "                                         autopct='%1.1f%%', ## 백분율을 소수점 앞 한자리 소수점 아래 한자리까지 %로 표시\n",
    "                                         ax=ax[0], ## 0번째 위치\n",
    "                                         shadow=True, ## 그림자 표시\n",
    "                                         fontsize=20)\n",
    "ax[0].set_title('Each percentage of purpose of bankrupt')\n",
    "ax[0].set_ylabel('')\n",
    "\n",
    "# 카운트 플랏\n",
    "sns.countplot(x='LoanPurpose', hue='Default', data=df, ax=ax[1])\n",
    "ax[1].set_title('LoanPurpose: bankruptcy or not')\n",
    "\n",
    "plt.show()"
   ]
  },
  {
   "cell_type": "code",
   "execution_count": null,
   "id": "d466ba97-3d78-4750-be38-324d71f05683",
   "metadata": {
    "tags": []
   },
   "outputs": [],
   "source": [
    "df.groupby('LoanPurpose')[['InterestRate','LoanAmount']].mean()"
   ]
  },
  {
   "cell_type": "code",
   "execution_count": null,
   "id": "Jp82-txEYnbh",
   "metadata": {
    "colab": {
     "base_uri": "https://localhost:8080/",
     "height": 673
    },
    "id": "Jp82-txEYnbh",
    "outputId": "1d43643b-9cd0-46f6-dddc-37ce8940f4f2",
    "tags": []
   },
   "outputs": [],
   "source": [
    "loan_purpose_sum = df.groupby('LoanPurpose')['LoanAmount'].sum()\n",
    "\n",
    "# 파이 차트 그리기\n",
    "plt.figure(figsize=(8, 8))\n",
    "plt.pie(loan_purpose_sum, labels=loan_purpose_sum.index, autopct='%1.1f%%', startangle=140, colors = ['skyblue', 'lightgreen', 'lightcoral', 'lightsalmon', 'lightpink'])\n",
    "plt.axis('equal')  # 원형을 유지\n",
    "plt.title('대출 목적에 따른 대출 금액 비율')\n",
    "plt.show()"
   ]
  },
  {
   "cell_type": "code",
   "execution_count": null,
   "id": "tdR-_lNJYnaL",
   "metadata": {
    "colab": {
     "base_uri": "https://localhost:8080/",
     "height": 513
    },
    "id": "tdR-_lNJYnaL",
    "outputId": "8bd6cadc-3e38-4a8a-c508-413aefca84a7",
    "tags": []
   },
   "outputs": [],
   "source": [
    "df_business = df[df['LoanPurpose']=='Business']\n",
    "df_business"
   ]
  },
  {
   "cell_type": "code",
   "execution_count": null,
   "id": "DA4sRymgYnXC",
   "metadata": {
    "colab": {
     "base_uri": "https://localhost:8080/",
     "height": 562
    },
    "id": "DA4sRymgYnXC",
    "outputId": "ac628ac0-3c55-43fb-9b7d-dc40f6ff1bea",
    "tags": []
   },
   "outputs": [],
   "source": [
    "plt.figure(figsize=(10, 6))\n",
    "sns.histplot(data=df_business, x='LoanAmount', bins=20, hue='Default', palette='pastel')\n",
    "plt.xlabel('LoanAmount')\n",
    "plt.ylabel('Frequency')\n",
    "plt.title('LoanAmount Distribution by Default Status')\n",
    "plt.show()"
   ]
  },
  {
   "cell_type": "markdown",
   "id": "X1wvshs4YoCO",
   "metadata": {
    "id": "X1wvshs4YoCO"
   },
   "source": [
    "#### DTI 분석"
   ]
  },
  {
   "cell_type": "code",
   "execution_count": null,
   "id": "GalOos8yY3YN",
   "metadata": {
    "colab": {
     "base_uri": "https://localhost:8080/",
     "height": 524
    },
    "id": "GalOos8yY3YN",
    "outputId": "097fdf63-9e9c-488a-bddf-220fe346d778",
    "tags": []
   },
   "outputs": [],
   "source": [
    "sns.countplot(x='DTIRatio', hue='Default', data=df)\n",
    "plt.title('DTiRato: 성공 vs 실패')\n",
    "plt.show()"
   ]
  },
  {
   "cell_type": "markdown",
   "id": "IiT7y_s-QFfQ",
   "metadata": {
    "id": "IiT7y_s-QFfQ"
   },
   "source": [
    "#상품 제안"
   ]
  },
  {
   "cell_type": "markdown",
   "id": "kIXSdQjeQTvv",
   "metadata": {
    "id": "kIXSdQjeQTvv"
   },
   "source": [
    "여기서부터 코드 자유롭게 붙여주세요~~~~"
   ]
  },
  {
   "cell_type": "markdown",
   "id": "PZLbd5LHQJXQ",
   "metadata": {
    "id": "PZLbd5LHQJXQ"
   },
   "source": [
    "1. 저소득자, 저신용자들 위한 상품 제안 (보미)\n",
    "2. 사업자를 위한 상품 제안 (진호, 수빈)\n",
    "3. 실업자 장려 대출 정책 (범윤, 지윤)"
   ]
  },
  {
   "cell_type": "markdown",
   "id": "1a3f0116-5179-48c2-a57e-f403e10254f5",
   "metadata": {},
   "source": [
    "# 사업자를 위한 대출상품 - 수빈"
   ]
  },
  {
   "cell_type": "markdown",
   "id": "5fad0a7c-e3fc-4399-9ed2-387cb463ea05",
   "metadata": {
    "tags": []
   },
   "source": [
    "## 'DSR' column 생성"
   ]
  },
  {
   "cell_type": "code",
   "execution_count": null,
   "id": "40e9e05f-aef5-479b-bd88-a024c541fa8b",
   "metadata": {
    "tags": []
   },
   "outputs": [],
   "source": [
    "# DSR의 분자에 포함되는 원리합계의 현재가치를 먼저 계산하는 함수를 먼저 작성\n",
    "def future_value(row):\n",
    "    rate = row['InterestRate'] / 100  # 백분율로 주어진 이자율을 소수로 변환\n",
    "    term = int(row['LoanTerm(year)'])\n",
    "    principal = row['LoanAmount']\n",
    "\n",
    "    total_fv = 0\n",
    "    for n in range(1, term + 1):\n",
    "        if n < term:\n",
    "            # 각 연도의 이자에 대한 현재 가치를 누적\n",
    "            total_fv += (principal * rate) * (1 + rate) ** n\n",
    "        else:\n",
    "            # 마지막 연도의 원금과 이자에 대한 현재 가치를 누적\n",
    "            total_fv += (principal + principal * rate) * (1 + rate) ** n\n",
    "            \n",
    "    return total_fv"
   ]
  },
  {
   "cell_type": "code",
   "execution_count": null,
   "id": "0dc1d903-f510-409e-9411-ed72a8e156cb",
   "metadata": {
    "tags": []
   },
   "outputs": [],
   "source": [
    "df['FV_Total'] = df.apply(future_value, axis=1)"
   ]
  },
  {
   "cell_type": "code",
   "execution_count": null,
   "id": "6b78a36f-90a3-4473-ac03-124406d61023",
   "metadata": {
    "tags": []
   },
   "outputs": [],
   "source": [
    "#DSR 작성\n",
    "df['DSR'] = (df['FV_Total'] + df['Debt']) /df['Income']\n",
    "df.head()"
   ]
  },
  {
   "cell_type": "markdown",
   "id": "88155271-1fff-4554-80a4-11df012052be",
   "metadata": {},
   "source": [
    "## 'LoanPurpose' 제한"
   ]
  },
  {
   "cell_type": "code",
   "execution_count": null,
   "id": "3c5e4e67-6527-47cd-adfa-6dd0003c5e94",
   "metadata": {
    "tags": []
   },
   "outputs": [],
   "source": [
    "numeric_data = df.select_dtypes(include=[np.number])  # 숫자형 데이터만 선택\n",
    "correlation_matrix = numeric_data.corr()  # 숫자형 데이터의 상관관계 행렬 계산\n",
    "\n",
    "plt.figure(figsize=(18, 8))\n",
    "sns.heatmap(correlation_matrix, annot=True, cmap='RdYlGn', linewidths=0.2)\n",
    "plt.show()"
   ]
  },
  {
   "cell_type": "code",
   "execution_count": null,
   "id": "6161e9c1-324a-46ad-98ac-1d40eb955481",
   "metadata": {
    "tags": []
   },
   "outputs": [],
   "source": [
    "df_bus = df.loc[df['LoanPurpose']=='Business']\n",
    "df_bus.head()"
   ]
  },
  {
   "cell_type": "code",
   "execution_count": null,
   "id": "36a2a079-04bd-4e0c-b234-9f6622d0b7c6",
   "metadata": {
    "tags": []
   },
   "outputs": [],
   "source": [
    "# 중간값, 결측치, 왜도, 첨도를 표시합니다.\n",
    "df_stats = df_bus.describe().T\n",
    "\n",
    "median_results = []\n",
    "skew_results = []\n",
    "kurtosis_results = []\n",
    "null_results = []\n",
    "\n",
    "for idx, val in enumerate(df_stats.index):\n",
    "    median_results.append(df[val].median())\n",
    "    skew_results.append(df[val].skew())\n",
    "    kurtosis_results.append(df[val].kurtosis())\n",
    "    null_results.append(df[val].isnull().sum())\n",
    "\n",
    "df_stats['median'] = median_results\n",
    "df_stats['missing'] = null_results\n",
    "df_stats['skewness'] = skew_results\n",
    "df_stats['kurtosis'] = kurtosis_results\n",
    "df_stats"
   ]
  },
  {
   "cell_type": "code",
   "execution_count": null,
   "id": "aa0606d2-da76-4bf6-9974-a082886d8194",
   "metadata": {
    "tags": []
   },
   "outputs": [],
   "source": [
    "df_bus.hist(figsize=(22,18), density=True)\n",
    "plt.show()"
   ]
  },
  {
   "cell_type": "code",
   "execution_count": null,
   "id": "89783ac9-2e56-4948-a494-71323b26053c",
   "metadata": {
    "tags": []
   },
   "outputs": [],
   "source": [
    "sns.kdeplot(x='InterestRate',data=df_bus,fill=True, label='Target')\n",
    "sns.kdeplot(x='InterestRate',data=df,fill=True, label='Total')\n",
    "plt.legend()\n",
    "plt.show()"
   ]
  },
  {
   "cell_type": "markdown",
   "id": "749008c3-0604-40a0-aedf-89a8f8d62ea7",
   "metadata": {},
   "source": [
    "## 'Age' 제한"
   ]
  },
  {
   "cell_type": "code",
   "execution_count": null,
   "id": "dce4ab4c-b96f-4e95-92a1-b89bd3aec4ef",
   "metadata": {
    "tags": []
   },
   "outputs": [],
   "source": [
    "# Age_Range에 따른 분포\n",
    "sns.countplot(x='Age_Range', hue='Default', data=df_bus)\n",
    "plt.title('Age_Range: 성공 vs 실패')\n",
    "plt.show()"
   ]
  },
  {
   "cell_type": "code",
   "execution_count": null,
   "id": "31086a27-a33c-41f4-8b0c-57e10334f159",
   "metadata": {
    "tags": []
   },
   "outputs": [],
   "source": [
    "df_bus.groupby(by='Age_Range')[['Default','Age','Income','LoanAmount','CreditScore','InterestRate','LoanTerm(year)','Debt','DSR']].mean()"
   ]
  },
  {
   "cell_type": "code",
   "execution_count": null,
   "id": "1be32ae6-a7a8-4f19-922f-83469c50a9fd",
   "metadata": {
    "tags": []
   },
   "outputs": [],
   "source": [
    "df_bus3060 = df_bus.loc[df_bus['Age_Range']!='10-20대']\n",
    "df_bus3060['Debt'].mean()"
   ]
  },
  {
   "cell_type": "markdown",
   "id": "088ae8c9-a719-4857-b28f-1bd34e4c1a77",
   "metadata": {},
   "source": [
    "## 'Income' 제한"
   ]
  },
  {
   "cell_type": "code",
   "execution_count": null,
   "id": "c4f47221-db26-412e-92f0-2ccc9eaf9483",
   "metadata": {
    "tags": []
   },
   "outputs": [],
   "source": [
    "# Income_Range에 따른 분포\n",
    "sns.countplot(x='Income_Range', hue='Default', data=df_bus)\n",
    "plt.title('Income_Range: 성공 vs 실패')\n",
    "plt.show()"
   ]
  },
  {
   "cell_type": "code",
   "execution_count": null,
   "id": "3359768b-bf8a-4fb4-b66c-03994ec4b4f0",
   "metadata": {
    "tags": []
   },
   "outputs": [],
   "source": [
    "df_bus.groupby(by='Income_Range')[['Default','Age','Income','LoanAmount','CreditScore','InterestRate','LoanTerm(year)','Debt','DSR']].mean()"
   ]
  },
  {
   "cell_type": "code",
   "execution_count": null,
   "id": "0e9ef18d-a50b-46a5-a463-922c28602d2e",
   "metadata": {
    "tags": []
   },
   "outputs": [],
   "source": [
    "df_busHigh = df_bus.loc[df_bus['Income_Range']!='저소득층']\n",
    "df_busHigh['DSR'].mean()"
   ]
  },
  {
   "cell_type": "code",
   "execution_count": null,
   "id": "41c9b995-7fb9-4094-b073-7e7f5397150f",
   "metadata": {
    "tags": []
   },
   "outputs": [],
   "source": [
    "df_bus.groupby('Income_Range')['DSR'].describe()"
   ]
  },
  {
   "cell_type": "code",
   "execution_count": null,
   "id": "10d79808-adc8-4da8-b81b-a81af9a2602b",
   "metadata": {
    "tags": []
   },
   "outputs": [],
   "source": [
    "lower_limit = 0\n",
    "upper_limit = 30\n",
    "sns.kdeplot(x='DSR',data=df_bus,hue='Income_Range',fill=True, clip=(lower_limit, upper_limit))"
   ]
  },
  {
   "cell_type": "markdown",
   "id": "ce69c370-7467-409f-bfac-aeab422d1d17",
   "metadata": {},
   "source": [
    "## 대상(df_target) 분석"
   ]
  },
  {
   "cell_type": "code",
   "execution_count": null,
   "id": "fa43cc57-60a6-4d32-8671-64938d2cd54c",
   "metadata": {
    "tags": []
   },
   "outputs": [],
   "source": [
    "df_target = df_bus.drop(df_bus[(df_bus['Age_Range']=='10-20대')&(df_bus['Debt']>41269)].index)\n",
    "df_target = df_target.drop(df_target[(df_target['Income_Range']=='저소득층')&(df_target['DSR']>23.23)].index)\n",
    "df_target.head()"
   ]
  },
  {
   "cell_type": "code",
   "execution_count": null,
   "id": "bd188563-babd-40dc-b210-139b19a2ae21",
   "metadata": {
    "tags": []
   },
   "outputs": [],
   "source": [
    "df_target.describe()"
   ]
  },
  {
   "cell_type": "code",
   "execution_count": null,
   "id": "89956991-21a0-4454-9006-ee2ae6692890",
   "metadata": {
    "tags": []
   },
   "outputs": [],
   "source": [
    "df_bus.describe()"
   ]
  },
  {
   "cell_type": "code",
   "execution_count": null,
   "id": "89244a52-a59a-40f7-97f9-6650a052cbee",
   "metadata": {
    "tags": []
   },
   "outputs": [],
   "source": [
    "df_target0=df_target.loc[df_target['Default']==0]\n",
    "df_target1=df_target.loc[df_target['Default']==1]"
   ]
  },
  {
   "cell_type": "code",
   "execution_count": null,
   "id": "dba1dde9-f1f4-4bee-8d61-84ea00a7ba40",
   "metadata": {
    "tags": []
   },
   "outputs": [],
   "source": [
    "f, ax = plt.subplots(2, 6, figsize=(20, 8))\n",
    "\n",
    "# 파이차트1\n",
    "df_target0['Education'].value_counts().plot.pie( \n",
    "                                         autopct='%1.1f%%', ## 백분율을 소수점 앞 한자리 소수점 아래 한자리까지 %로 표시\n",
    "                                         ax=ax[0,0],\n",
    "                                         shadow=True, ## 그림자 표시\n",
    "                                         fontsize=10)\n",
    "ax[0,0].set_title('Education(Default=0)')\n",
    "ax[0,0].set_ylabel('')\n",
    "\n",
    "# 파이차트2\n",
    "df_target0['EmploymentType'].value_counts().plot.pie( \n",
    "                                         autopct='%1.1f%%', ## 백분율을 소수점 앞 한자리 소수점 아래 한자리까지 %로 표시\n",
    "                                         ax=ax[0,1],\n",
    "                                         shadow=True, ## 그림자 표시\n",
    "                                         fontsize=10)\n",
    "ax[0,1].set_title('EmploymentType(Default=0)')\n",
    "ax[0,1].set_ylabel('')\n",
    "\n",
    "#파이차트3\n",
    "df_target0['MaritalStatus'].value_counts().plot.pie( \n",
    "                                         autopct='%1.1f%%', ## 백분율을 소수점 앞 한자리 소수점 아래 한자리까지 %로 표시\n",
    "                                         ax=ax[0,2],\n",
    "                                         shadow=True, ## 그림자 표시\n",
    "                                         fontsize=10)\n",
    "ax[0,2].set_title('MaritalStatus(Default=0)')\n",
    "ax[0,2].set_ylabel('')\n",
    "\n",
    "\n",
    "#파이차트4\n",
    "df_target0['HasMortgage'].value_counts().plot.pie( \n",
    "                                         autopct='%1.1f%%', ## 백분율을 소수점 앞 한자리 소수점 아래 한자리까지 %로 표시\n",
    "                                         ax=ax[0,3],\n",
    "                                         shadow=True, ## 그림자 표시\n",
    "                                         fontsize=10)\n",
    "ax[0,3].set_title('HasMortgage(Default=0)')\n",
    "ax[0,3].set_ylabel('')\n",
    "\n",
    "#파이차트5\n",
    "df_target0['HasDependents'].value_counts().plot.pie( \n",
    "                                         autopct='%1.1f%%', ## 백분율을 소수점 앞 한자리 소수점 아래 한자리까지 %로 표시\n",
    "                                         ax=ax[0,4],\n",
    "                                         shadow=True, ## 그림자 표시\n",
    "                                         fontsize=10)\n",
    "ax[0,4].set_title('HasDependents(Default=0)')\n",
    "ax[0,4].set_ylabel('')\n",
    "\n",
    "\n",
    "#파이차트7\n",
    "df_target0['HasCoSigner'].value_counts().plot.pie( \n",
    "                                         autopct='%1.1f%%', ## 백분율을 소수점 앞 한자리 소수점 아래 한자리까지 %로 표시\n",
    "                                         ax=ax[0,5],\n",
    "                                         shadow=True, ## 그림자 표시\n",
    "                                         fontsize=10)\n",
    "ax[0,5].set_title('HasCoSigner(Default=0)')\n",
    "ax[0,5].set_ylabel('')\n",
    "\n",
    "\n",
    "#####################################################\n",
    "\n",
    "\n",
    "# 파이차트8\n",
    "df_target1['Education'].value_counts().plot.pie( \n",
    "                                         autopct='%1.1f%%', ## 백분율을 소수점 앞 한자리 소수점 아래 한자리까지 %로 표시\n",
    "                                         ax=ax[1,0],\n",
    "                                         shadow=True, ## 그림자 표시\n",
    "                                         fontsize=10)\n",
    "ax[1,0].set_title('Education(Default=1)')\n",
    "ax[1,0].set_ylabel('')\n",
    "\n",
    "# 파이차트9\n",
    "df_target1['EmploymentType'].value_counts().plot.pie( \n",
    "                                         autopct='%1.1f%%', ## 백분율을 소수점 앞 한자리 소수점 아래 한자리까지 %로 표시\n",
    "                                         ax=ax[1,1],\n",
    "                                         shadow=True, ## 그림자 표시\n",
    "                                         fontsize=10)\n",
    "ax[1,1].set_title('EmploymentType(Default=1)')\n",
    "ax[1,1].set_ylabel('')\n",
    "\n",
    "#파이차트10\n",
    "df_target1['MaritalStatus'].value_counts().plot.pie( \n",
    "                                         autopct='%1.1f%%', ## 백분율을 소수점 앞 한자리 소수점 아래 한자리까지 %로 표시\n",
    "                                         ax=ax[1,2],\n",
    "                                         shadow=True, ## 그림자 표시\n",
    "                                         fontsize=10)\n",
    "ax[1,2].set_title('MaritalStatus(Default=1)')\n",
    "ax[1,2].set_ylabel('')\n",
    "\n",
    "\n",
    "#파이차트11\n",
    "df_target1['HasMortgage'].value_counts().plot.pie( \n",
    "                                         autopct='%1.1f%%', ## 백분율을 소수점 앞 한자리 소수점 아래 한자리까지 %로 표시\n",
    "                                         ax=ax[1,3],\n",
    "                                         shadow=True, ## 그림자 표시\n",
    "                                         fontsize=10)\n",
    "ax[1,3].set_title('HasMortgage(Default=1)')\n",
    "ax[1,3].set_ylabel('')\n",
    "\n",
    "#파이차트12\n",
    "df_target1['HasDependents'].value_counts().plot.pie( \n",
    "                                         autopct='%1.1f%%', ## 백분율을 소수점 앞 한자리 소수점 아래 한자리까지 %로 표시\n",
    "                                         ax=ax[1,4],\n",
    "                                         shadow=True, ## 그림자 표시\n",
    "                                         fontsize=10)\n",
    "ax[1,4].set_title('HasDependents(Default=1)')\n",
    "ax[1,4].set_ylabel('')\n",
    "\n",
    "#파이차트14\n",
    "df_target1['HasCoSigner'].value_counts().plot.pie( \n",
    "                                         autopct='%1.1f%%', ## 백분율을 소수점 앞 한자리 소수점 아래 한자리까지 %로 표시\n",
    "                                         ax=ax[1,5],\n",
    "                                         shadow=True, ## 그림자 표시\n",
    "                                         fontsize=10)\n",
    "ax[1,5].set_title('HasCoSigner(Default=1)')\n",
    "ax[1,5].set_ylabel('')"
   ]
  },
  {
   "cell_type": "markdown",
   "id": "626fa3eb-6336-4c01-a0ea-680708831329",
   "metadata": {},
   "source": [
    "## 'LoanAmount' 상한선 측정"
   ]
  },
  {
   "cell_type": "code",
   "execution_count": null,
   "id": "453d6f9f-0727-42cf-b782-72869469799d",
   "metadata": {
    "tags": []
   },
   "outputs": [],
   "source": [
    "sns.kdeplot(x='LoanAmount',data=df_target,hue='Default',fill=True)\n",
    "\n",
    "# 커널 밀도 추정을 수행합니다.\n",
    "x = np.linspace(min(df_target['LoanAmount']), max(df_target['LoanAmount']), 1000)\n",
    "kde_default = gaussian_kde(df_target[df_target['Default'] == 1]['LoanAmount'])\n",
    "kde_not_default = gaussian_kde(df_target[df_target['Default'] == 0]['LoanAmount'])\n",
    "\n",
    "# 밀도 값을 계산합니다.\n",
    "y_default = kde_default(x)\n",
    "y_not_default = kde_not_default(x)\n",
    "\n",
    "# 최대 밀도 값을 갖는 x 위치를 찾습니다.\n",
    "x_max_default = x[np.argmax(y_default)]\n",
    "x_max_not_default = x[np.argmax(y_not_default)]\n",
    "\n",
    "print(f\"Default=Yes의 최대 밀도 x 위치: {x_max_default}\")\n",
    "print(f\"Default=No의 최대 밀도 x 위치: {x_max_not_default}\")"
   ]
  },
  {
   "cell_type": "code",
   "execution_count": null,
   "id": "a38b019b-a7e1-44a1-840e-1f66fb3d8321",
   "metadata": {
    "tags": []
   },
   "outputs": [],
   "source": [
    "df_target[['LoanAmount']].describe()"
   ]
  },
  {
   "cell_type": "code",
   "execution_count": null,
   "id": "4a535641-0585-4fd2-93e0-a4796f18c321",
   "metadata": {
    "tags": []
   },
   "outputs": [],
   "source": [
    "df_target['LoanAmount/Income']=df_target['LoanAmount']/df_target['Income']\n",
    "df_target['LoanAmount/Income'].describe()"
   ]
  },
  {
   "cell_type": "code",
   "execution_count": null,
   "id": "54f1f4bd-820b-4e0a-89da-adfb13e667b9",
   "metadata": {
    "tags": []
   },
   "outputs": [],
   "source": [
    "df['LoanAmount/Income']=df['LoanAmount']/df['Income']\n",
    "df['LoanAmount/Income'].describe()"
   ]
  },
  {
   "cell_type": "code",
   "execution_count": null,
   "id": "1b1909c4-d458-4e50-80c9-31e95cb133d3",
   "metadata": {
    "tags": []
   },
   "outputs": [],
   "source": [
    "sns.kdeplot(x='LoanAmount/Income', data=df_target.loc[df_target['Default']==1], fill=True, palette='viridis',label='Target')\n",
    "sns.kdeplot(x='LoanAmount/Income', data=df.loc[df['Default']==1], fill=True, palette='pastel',label='Total')\n",
    "plt.legend()\n",
    "plt.show()"
   ]
  },
  {
   "cell_type": "code",
   "execution_count": null,
   "id": "6e467940-a689-42a3-b130-e8efb37ecbdc",
   "metadata": {
    "tags": []
   },
   "outputs": [],
   "source": [
    "\n",
    "# 1. 각 데이터셋에 대한 KDE 값을 추정\n",
    "x_grid = np.linspace(min(df_target['LoanAmount/Income'].min(), df['LoanAmount/Income'].min()), \n",
    "                     max(df_target['LoanAmount/Income'].max(), df['LoanAmount/Income'].max()), 1000)\n",
    "\n",
    "kde_target = gaussian_kde(df_target.loc[df_target['Default']==1, 'LoanAmount/Income'])\n",
    "kde_df = gaussian_kde(df.loc[df['Default']==1, 'LoanAmount/Income'])\n",
    "\n",
    "kde_vals_target = kde_target(x_grid)\n",
    "kde_vals_df = kde_df(x_grid)\n",
    "\n",
    "# 2. 두 KDE 값의 차이 계산\n",
    "diff = kde_vals_target - kde_vals_df\n",
    "\n",
    "# 3. 교차 지점 찾기\n",
    "cross_points = x_grid[np.where(np.diff(np.sign(diff)))[0]]\n",
    "\n",
    "print(cross_points)\n"
   ]
  },
  {
   "cell_type": "markdown",
   "id": "cbc44522-8ad2-4f54-8d16-6cd9a0cc6ae1",
   "metadata": {},
   "source": [
    "## 적정 'LoanTerm(year)' 측정"
   ]
  },
  {
   "cell_type": "code",
   "execution_count": null,
   "id": "f401bccb-dea7-4b7d-be4c-87c63cd86f87",
   "metadata": {
    "tags": []
   },
   "outputs": [],
   "source": [
    "sns.histplot(x='LoanTerm(year)',data=df_target.loc[df_target['Default']==1],fill=True,label='Target')\n",
    "sns.histplot(x='LoanTerm(year)',data=df.loc[df['Default']==1],fill=True,label='Total')\n",
    "plt.legend()\n",
    "plt.show()"
   ]
  },
  {
   "cell_type": "code",
   "execution_count": null,
   "id": "b8a7c75b-2349-429e-b00f-da24fd43b676",
   "metadata": {},
   "outputs": [],
   "source": [
    "sns.kdeplot(x='LoanTerm(year)',data=df_target.loc[df_target['Default']==1],fill=True)\n",
    "sns.kdeplot(x='LoanTerm(year)',data=df.loc[df['Default']==1],fill=True)\n",
    "plt.show()"
   ]
  },
  {
   "cell_type": "markdown",
   "id": "df2f3ddd-7ce3-4caf-87e9-b922ba23d0c3",
   "metadata": {},
   "source": [
    "## 적정 'InterestRate' 측정"
   ]
  },
  {
   "cell_type": "code",
   "execution_count": null,
   "id": "92fe166e-797e-485e-98c0-bd6d81ada226",
   "metadata": {},
   "outputs": [],
   "source": [
    "sns.kdeplot(x='InterestRate',data=df_target,hue='Default',fill=True)\n",
    "\n",
    "# 커널 밀도 추정을 수행합니다.\n",
    "x = np.linspace(min(df_target['InterestRate']), max(df_target['InterestRate']), 1000)\n",
    "kde_default = gaussian_kde(df_target[df_bus['Default'] == 1]['InterestRate'])\n",
    "kde_not_default = gaussian_kde(df_target[df_bus['Default'] == 0]['InterestRate'])\n",
    "\n",
    "# 밀도 값을 계산합니다.\n",
    "y_default = kde_default(x)\n",
    "y_not_default = kde_not_default(x)\n",
    "\n",
    "# 최대 밀도 값을 갖는 x 위치를 찾습니다.\n",
    "x_max_default = x[np.argmax(y_default)]\n",
    "x_max_not_default = x[np.argmax(y_not_default)]\n",
    "\n",
    "print(f\"Default=Yes의 최대 밀도 x 위치: {x_max_default}\")\n",
    "print(f\"Default=No의 최대 밀도 x 위치: {x_max_not_default}\")"
   ]
  },
  {
   "cell_type": "code",
   "execution_count": null,
   "id": "f414c102-8270-475d-8f1e-38477e337e0c",
   "metadata": {
    "tags": []
   },
   "outputs": [],
   "source": [
    "df_target['LoanAmount'].describe()"
   ]
  },
  {
   "cell_type": "markdown",
   "id": "1d5cc513-30be-4957-9771-36fbaeadd871",
   "metadata": {},
   "source": [
    "### 최대 적정 이자율 찾기"
   ]
  },
  {
   "cell_type": "code",
   "execution_count": null,
   "id": "78bc99e8-7d12-471b-b512-564acce056ca",
   "metadata": {
    "tags": []
   },
   "outputs": [],
   "source": [
    "# KDE 플롯 생성\n",
    "sns.set(style=\"whitegrid\")\n",
    "sns.kdeplot(x='InterestRate', data=df_target, hue='Default', fill=True, legend=True)\n",
    "\n",
    "# 그래프 표시\n",
    "plt.show()"
   ]
  },
  {
   "cell_type": "code",
   "execution_count": null,
   "id": "38c0c515-937f-4ca7-b993-77be4c8ba9f0",
   "metadata": {
    "tags": []
   },
   "outputs": [],
   "source": [
    "# KDE 플롯 생성\n",
    "sns.set(style=\"whitegrid\")\n",
    "sns.kdeplot(x='InterestRate', data=df_target.loc[df_target['Default']==1], fill=True, palette='viridis',label='Target')\n",
    "sns.kdeplot(x='InterestRate', data=df.loc[df['Default']==1], fill=True, palette='pastel', label='Total')\n",
    "\n",
    "# 그래프 표시\n",
    "plt.legend()\n",
    "plt.show()"
   ]
  },
  {
   "cell_type": "code",
   "execution_count": null,
   "id": "8b71cd74-376f-4a6b-bb35-34b693b14d07",
   "metadata": {
    "tags": []
   },
   "outputs": [],
   "source": [
    "\n",
    "# 1. 각 데이터셋에 대한 KDE 값을 추정\n",
    "x_grid = np.linspace(min(df_target['InterestRate'].min(), df['InterestRate'].min()), \n",
    "                     max(df_target['InterestRate'].max(), df['InterestRate'].max()), 1000)\n",
    "\n",
    "kde_target = gaussian_kde(df_target.loc[df_target['Default']==1, 'InterestRate'])\n",
    "kde_df = gaussian_kde(df.loc[df['Default']==1, 'InterestRate'])\n",
    "\n",
    "kde_vals_target = kde_target(x_grid)\n",
    "kde_vals_df = kde_df(x_grid)\n",
    "\n",
    "# 2. 두 KDE 값의 차이 계산\n",
    "diff = kde_vals_target - kde_vals_df\n",
    "\n",
    "# 3. 교차 지점 찾기\n",
    "cross_points = x_grid[np.where(np.diff(np.sign(diff)))[0]]\n",
    "\n",
    "print(cross_points)"
   ]
  },
  {
   "cell_type": "markdown",
   "id": "fd81b8a9-479c-49a3-af15-7ef0d2696eee",
   "metadata": {},
   "source": [
    "### 최소 적정 이자율 찾기"
   ]
  },
  {
   "cell_type": "code",
   "execution_count": null,
   "id": "7c87e441-12e1-452b-8ce1-50e00240607c",
   "metadata": {
    "tags": []
   },
   "outputs": [],
   "source": [
    "# DSR의 분자에 포함되는 원리합계의 현재가치를 먼저 계산하는 함수를 먼저 작성\n",
    "def present_new_value(row):\n",
    "    rate = row['New_InterestRate'] / 100  # 백분율로 주어진 이자율을 소수로 변환\n",
    "    term = int(row['LoanTerm(year)'])\n",
    "    principal = row['LoanAmount']\n",
    "\n",
    "    total_fv = 0\n",
    "\n",
    "    for n in range(1, term + 1):\n",
    "        if n < term:\n",
    "            # 각 연도의 이자에 대한 현재 가치를 누적\n",
    "            total_fv += (principal * rate) * (1 + rate) ** n\n",
    "        else:\n",
    "            # 마지막 연도의 원금과 이자에 대한 현재 가치를 누적\n",
    "            total_fv += (principal + principal * rate) * (1 + rate) ** n\n",
    "            \n",
    "    return total_fv\n"
   ]
  },
  {
   "cell_type": "code",
   "execution_count": null,
   "id": "6fe43dd7-6471-47f7-a67b-a9cfa4ca8434",
   "metadata": {
    "tags": []
   },
   "outputs": [],
   "source": [
    "df_target_success =  df_target[df_target['Default']==0]\n",
    "df_target_fail = df_target[df_target['Default']==1]\n",
    "df_target_success['New_InterestRate']=0\n",
    "total_revenue_threshold = df_target_fail['LoanAmount'].sum()\n",
    "current_total_revenue=0\n",
    "\n",
    "while current_total_revenue <= total_revenue_threshold:\n",
    "  df_target_success['New_Total_LoanAmount'] = df_target_success.apply(present_new_value,axis=1)\n",
    "  df_target_success['Total_Revenue'] = df_target_success['New_Total_LoanAmount'] - df_target_success['FV_Total']\n",
    "  current_total_revenue = df_target_success['Total_Revenue'].sum()\n",
    "  df_target_success['New_InterestRate'] += 0.1\n",
    "\n",
    "df_target_success['New_InterestRate']"
   ]
  }
 ],
 "metadata": {
  "colab": {
   "provenance": [],
   "toc_visible": true
  },
  "kernelspec": {
   "display_name": "Python 3 (ipykernel)",
   "language": "python",
   "name": "python3"
  },
  "language_info": {
   "codemirror_mode": {
    "name": "ipython",
    "version": 3
   },
   "file_extension": ".py",
   "mimetype": "text/x-python",
   "name": "python",
   "nbconvert_exporter": "python",
   "pygments_lexer": "ipython3",
   "version": "3.11.4"
  },
  "toc": {
   "base_numbering": 1,
   "nav_menu": {},
   "number_sections": true,
   "sideBar": true,
   "skip_h1_title": false,
   "title_cell": "Table of Contents",
   "title_sidebar": "Contents",
   "toc_cell": false,
   "toc_position": {
    "height": "calc(100% - 180px)",
    "left": "10px",
    "top": "150px",
    "width": "261.818px"
   },
   "toc_section_display": true,
   "toc_window_display": true
  },
  "toc-autonumbering": true
 },
 "nbformat": 4,
 "nbformat_minor": 5
}
